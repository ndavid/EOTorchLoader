{
 "cells": [
  {
   "cell_type": "code",
   "execution_count": null,
   "id": "316ae43f-a45d-40d9-8798-fe08c71de610",
   "metadata": {},
   "outputs": [],
   "source": [
    "# Imports \n",
    "import os\n",
    "from os import listdir\n",
    "import random\n",
    "import itertools\n",
    "from pathlib import Path"
   ]
  },
  {
   "cell_type": "code",
   "execution_count": null,
   "id": "5d1b7ac7-9bc8-46fc-b420-c5165e1556de",
   "metadata": {},
   "outputs": [],
   "source": [
    "# Main parameters\n",
    "inria_dataset_root_dir = Path(\"/media/dlsupport/DATA1/EOData/INRIA/AerialImageDataset\")"
   ]
  },
  {
   "cell_type": "markdown",
   "id": "12f73bb0-0793-4c94-9a97-22c45a11050c",
   "metadata": {},
   "source": [
    "# Define INRIA data dataframe\n",
    "\n",
    "The INRIA Aerial Image Labeling Dataset has the following structure : \n",
    "\n",
    "<!-- language: lang-none -->\n",
    "\n",
    "    .\n",
    "    ├── test\n",
    "    │   └── images\n",
    "    └── train\n",
    "        ├── gt\n",
    "        └── images\n",
    "        \n",
    "Each image has a filename of type {town_prefix}{i}.tif with i in [1:36] Gt (ground truth) and image has the same filename\n",
    "First we load info of train images with *load_geo_img_dir* utils function of EOTorchLoader"
   ]
  },
  {
   "cell_type": "code",
   "execution_count": null,
   "id": "9e1cae28-98cd-4bb1-9725-c5bf0e66a030",
   "metadata": {},
   "outputs": [],
   "source": [
    "import pandas as pd\n",
    "from eotorchloader.dataset.utils import load_geo_img_dir"
   ]
  },
  {
   "cell_type": "code",
   "execution_count": null,
   "id": "5ba72c98-03a1-4406-955f-0a2c7c9b25df",
   "metadata": {},
   "outputs": [],
   "source": [
    "inria_train_val_df = load_geo_img_dir(inria_dataset_root_dir/\"train\"/\"images\")"
   ]
  },
  {
   "cell_type": "code",
   "execution_count": null,
   "id": "476f51fe-1075-4e6b-a64e-b76dbbfe0da0",
   "metadata": {},
   "outputs": [],
   "source": [
    "inria_train_val_df.head(10)"
   ]
  },
  {
   "cell_type": "markdown",
   "id": "b560b180-b9e4-4b2a-975f-a0e2b1aa9956",
   "metadata": {},
   "source": [
    "then we define a split in train data between train and val dataset. This could be done in multiple way.\n",
    "\n",
    " * set val image as first images of each town. Usually for INRIA dataset val images are set as the 6 first image of each towns.\n",
    " * set val as all the image in a town and train as the images in all other towns.\n",
    " \n",
    "To use this two split we add 2 columns to the extracted dataframe :\n",
    " \n",
    " * a column with the town id/name\n",
    " * a column \"standart_split\" with take value in [\"train\", \"val\", \"test\"]\n"
   ]
  },
  {
   "cell_type": "code",
   "execution_count": null,
   "id": "35ad75ca-4c44-4072-82c3-d1114f32dd36",
   "metadata": {},
   "outputs": [],
   "source": [
    "# First add a town columns.\n",
    "inria_train_val_df[['town', 'num']] = inria_train_val_df[\"name\"].str.extract('([a-zA-Z\\-]+)([^a-zA-Z\\-]+)', expand=True)\n",
    "inria_train_val_df['num'] = inria_train_val_df['num'].astype(int)\n",
    "# then we add standard_split columns\n",
    "inria_train_val_df[\"standard_split\"] = \"train\"\n",
    "inria_train_val_df.loc[inria_train_val_df[\"num\"]<=6 ,\"standard_split\"] = \"val\"\n",
    "# finally we rename path as img_path and add a gt_path columns with corresponding mask path\n",
    "inria_train_val_df = inria_train_val_df.rename(columns={\"path\": \"img_path\"})\n",
    "inria_train_val_df[\"msk_path\"] =  inria_train_val_df[\"img_path\"].str.replace(\"images\", \"gt\", regex=False)"
   ]
  },
  {
   "cell_type": "code",
   "execution_count": null,
   "id": "c356585b-7c57-4c0e-ad74-68b214f7ab60",
   "metadata": {},
   "outputs": [],
   "source": [
    "print(inria_train_val_df[['name','town', 'num', 'standard_split']]) \n",
    "print(inria_train_val_df['town'].unique())"
   ]
  },
  {
   "cell_type": "markdown",
   "id": "73796e26-363a-4c67-9130-1bcc3e12e825",
   "metadata": {},
   "source": [
    "Once we have the list of image and mask we could intialize a TorchDataset which crop the image.\n",
    "\n",
    " * the tile_size is set in pixel\n",
    " * by default no transofmr is apply and the sample are in form {\"image\" : np.array, \"mask\" :np.array } in channel first order (CHW or rasterio like)"
   ]
  },
  {
   "cell_type": "code",
   "execution_count": null,
   "id": "74716df9-4559-4ccd-929b-df4474660cbe",
   "metadata": {},
   "outputs": [],
   "source": [
    "# import for use in train code\n",
    "from eotorchloader.dataset.scene_dataset import LargeImageDataset"
   ]
  },
  {
   "cell_type": "code",
   "execution_count": null,
   "id": "3cd02a0d-405c-4d4d-8854-37f0746481ba",
   "metadata": {},
   "outputs": [],
   "source": [
    "inria_train_df = inria_train_val_df[inria_train_val_df[\"standard_split\"]==\"train\"]\n",
    "image_files_train = inria_train_df[\"img_path\"].values\n",
    "mask_files_train = inria_train_df[\"msk_path\"].values\n",
    "print(image_files_train[0:5])\n",
    "print(mask_files_train[0:5])\n",
    "\n",
    "train_dataset_tile = LargeImageDataset(\n",
    "    image_files=image_files_train,\n",
    "    mask_files=mask_files_train,\n",
    "    tile_size = 512,\n",
    "    transforms=None,\n",
    "    image_bands=[1,2,3],\n",
    "    mask_bands=[1])"
   ]
  },
  {
   "cell_type": "code",
   "execution_count": null,
   "id": "476a931c-e0c7-49dc-a534-7494eabfb1aa",
   "metadata": {},
   "outputs": [],
   "source": [
    "import numpy as np\n",
    "test_idx = 195\n",
    "test_data = train_dataset_tile[test_idx]\n",
    "print(f\" keys : {test_data.keys()}\")\n",
    "img_shape =  test_data['image'].shape\n",
    "msk_shape = test_data['mask'].shape\n",
    "print(f\" image type : {img_shape}, mask type : {msk_shape}\")"
   ]
  },
  {
   "cell_type": "code",
   "execution_count": null,
   "id": "a3918df7-18d5-45fc-98a4-3105d8c7ab85",
   "metadata": {},
   "outputs": [],
   "source": [
    "print(np.histogram(test_data['mask'], bins=10))\n",
    "print(np.unique(test_data['mask']))"
   ]
  },
  {
   "cell_type": "code",
   "execution_count": null,
   "id": "ff713c82-cc22-4d92-9ba4-2fa96b83b536",
   "metadata": {},
   "outputs": [],
   "source": []
  }
 ],
 "metadata": {
  "kernelspec": {
   "display_name": "Python (EOtorchLoader)",
   "language": "python",
   "name": "eotorchloader"
  },
  "language_info": {
   "codemirror_mode": {
    "name": "ipython",
    "version": 3
   },
   "file_extension": ".py",
   "mimetype": "text/x-python",
   "name": "python",
   "nbconvert_exporter": "python",
   "pygments_lexer": "ipython3",
   "version": "3.9.10"
  }
 },
 "nbformat": 4,
 "nbformat_minor": 5
}
